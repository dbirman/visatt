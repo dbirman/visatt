{
 "cells": [
  {
   "cell_type": "code",
   "execution_count": 5,
   "metadata": {},
   "outputs": [
    {
     "name": "stdout",
     "output_type": "stream",
     "text": [
      "Epoch [5/200], Loss: 17.9070\n",
      "Epoch [10/200], Loss: 7.3550\n",
      "Epoch [15/200], Loss: 3.0803\n",
      "Epoch [20/200], Loss: 1.3485\n",
      "Epoch [25/200], Loss: 0.6469\n",
      "Epoch [30/200], Loss: 0.3627\n",
      "Epoch [35/200], Loss: 0.2475\n",
      "Epoch [40/200], Loss: 0.2009\n",
      "Epoch [45/200], Loss: 0.1820\n",
      "Epoch [50/200], Loss: 0.1743\n",
      "Epoch [55/200], Loss: 0.1712\n",
      "Epoch [60/200], Loss: 0.1700\n",
      "Epoch [65/200], Loss: 0.1695\n",
      "Epoch [70/200], Loss: 0.1693\n",
      "Epoch [75/200], Loss: 0.1692\n",
      "Epoch [80/200], Loss: 0.1691\n",
      "Epoch [85/200], Loss: 0.1691\n",
      "Epoch [90/200], Loss: 0.1691\n",
      "Epoch [95/200], Loss: 0.1691\n",
      "Epoch [100/200], Loss: 0.1691\n",
      "Epoch [105/200], Loss: 0.1691\n",
      "Epoch [110/200], Loss: 0.1691\n",
      "Epoch [115/200], Loss: 0.1691\n",
      "Epoch [120/200], Loss: 0.1691\n",
      "Epoch [125/200], Loss: 0.1691\n",
      "Epoch [130/200], Loss: 0.1691\n",
      "Epoch [135/200], Loss: 0.1691\n",
      "Epoch [140/200], Loss: 0.1691\n",
      "Epoch [145/200], Loss: 0.1691\n",
      "Epoch [150/200], Loss: 0.1691\n",
      "Epoch [155/200], Loss: 0.1691\n",
      "Epoch [160/200], Loss: 0.1691\n",
      "Epoch [165/200], Loss: 0.1691\n",
      "Epoch [170/200], Loss: 0.1691\n",
      "Epoch [175/200], Loss: 0.1691\n",
      "Epoch [180/200], Loss: 0.1691\n",
      "Epoch [185/200], Loss: 0.1691\n",
      "Epoch [190/200], Loss: 0.1691\n",
      "Epoch [195/200], Loss: 0.1691\n",
      "Epoch [200/200], Loss: 0.1691\n"
     ]
    },
    {
     "data": {
      "image/png": "[encoded data removed]",
      "text/plain": [
       "<Figure size 432x288 with 1 Axes>"
      ]
     },
     "metadata": {},
     "output_type": "display_data"
    }
   ],
   "source": [
    "import torch\n",
    "import torch.nn as nn\n",
    "import numpy as np\n",
    "import matplotlib.pyplot as plt\n",
    "%matplotlib inline  \n",
    "\n",
    "# Hyper-parameters\n",
    "input_size = 1\n",
    "output_size = 1\n",
    "num_epochs = 200\n",
    "learning_rate = 0.001\n",
    "\n",
    "# Toy dataset\n",
    "x_train = np.array([[3.3], [4.4], [5.5], [6.71], [6.93], [4.168], \n",
    "                    [9.779], [6.182], [7.59], [2.167], [7.042], \n",
    "                    [10.791], [5.313], [7.997], [3.1]], dtype=np.float32)\n",
    "\n",
    "y_train = np.array([[1.7], [2.76], [2.09], [3.19], [1.694], [1.573], \n",
    "                    [3.366], [2.596], [2.53], [1.221], [2.827], \n",
    "                    [3.465], [1.65], [2.904], [1.3]], dtype=np.float32)\n",
    "\n",
    "# Linear regression model\n",
    "model = nn.Linear(input_size, output_size)\n",
    "\n",
    "# Loss and optimizer\n",
    "criterion = nn.MSELoss()\n",
    "optimizer = torch.optim.SGD(model.parameters(), lr=learning_rate)  \n",
    "\n",
    "# Train the model\n",
    "for epoch in range(num_epochs):\n",
    "    # Convert numpy arrays to torch tensors\n",
    "    inputs = torch.from_numpy(x_train)\n",
    "    targets = torch.from_numpy(y_train)\n",
    "\n",
    "    # Forward pass\n",
    "    outputs = model(inputs)\n",
    "    loss = criterion(outputs, targets)\n",
    "    \n",
    "    # Backward and optimize\n",
    "    optimizer.zero_grad()\n",
    "    loss.backward()\n",
    "    optimizer.step()\n",
    "    \n",
    "    if (epoch+1) % 5 == 0:\n",
    "        print ('Epoch [{}/{}], Loss: {:.4f}'.format(epoch+1, num_epochs, loss.item()))\n",
    "\n",
    "# Plot the graph\n",
    "predicted = model(torch.from_numpy(x_train)).detach().numpy()\n",
    "plt.plot(x_train, y_train, 'ro', label='Original data')\n",
    "plt.plot(x_train, predicted, label='Fitted line')\n",
    "plt.legend()\n",
    "plt.show()\n",
    "\n",
    "# Save the model checkpoint\n",
    "torch.save(model.state_dict(), 'model.ckpt')"
   ]
  },
  {
   "cell_type": "code",
   "execution_count": 1,
   "metadata": {},
   "outputs": [
    {
     "name": "stderr",
     "output_type": "stream",
     "text": [
      "Downloading: \"https://download.pytorch.org/models/vgg16-397923af.pth\" to /Users/dan/.torch/models/vgg16-397923af.pth\n",
      "100.0%\n"
     ]
    }
   ],
   "source": [
    "import torchvision.models as models\n",
    "vgg16 = models.vgg16(pretrained=True)"
   ]
  },
  {
   "cell_type": "code",
   "execution_count": 2,
   "metadata": {},
   "outputs": [
    {
     "ename": "TypeError",
     "evalue": "apply() missing 1 required positional argument: 'fn'",
     "output_type": "error",
     "traceback": [
      "\u001b[0;31m---------------------------------------------------------------------------\u001b[0m",
      "\u001b[0;31mTypeError\u001b[0m                                 Traceback (most recent call last)",
      "\u001b[0;32m<ipython-input-2-543df6a399f2>\u001b[0m in \u001b[0;36m<module>\u001b[0;34m()\u001b[0m\n\u001b[0;32m----> 1\u001b[0;31m \u001b[0mvgg16\u001b[0m\u001b[0;34m.\u001b[0m\u001b[0mapply\u001b[0m\u001b[0;34m(\u001b[0m\u001b[0;34m)\u001b[0m\u001b[0;34m\u001b[0m\u001b[0m\n\u001b[0m",
      "\u001b[0;31mTypeError\u001b[0m: apply() missing 1 required positional argument: 'fn'"
     ]
    }
   ],
   "source": [
    "vgg16.apply()"
   ]
  },
  {
   "cell_type": "code",
   "execution_count": null,
   "metadata": {},
   "outputs": [],
   "source": []
  }
 ],
 "metadata": {
  "kernelspec": {
   "display_name": "Python 3",
   "language": "python",
   "name": "python3"
  },
  "language_info": {
   "codemirror_mode": {
    "name": "ipython",
    "version": 3
   },
   "file_extension": ".py",
   "mimetype": "text/x-python",
   "name": "python",
   "nbconvert_exporter": "python",
   "pygments_lexer": "ipython3",
   "version": "3.6.5"
  }
 },
 "nbformat": 4,
 "nbformat_minor": 2
}
